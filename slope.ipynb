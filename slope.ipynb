{
 "cells": [
  {
   "cell_type": "code",
   "execution_count": null,
   "metadata": {},
   "outputs": [],
   "source": [
    "import pandas as pd\n",
    "import numpy as np\n",
    "import geopandas as gpd\n",
    "import xarray as xr\n",
    "import rioxarray\n",
    "import rasterio\n",
    "from rasterio.plot import show\n",
    "from rasterio.transform import from_origin\n",
    "import plotly.express as px\n",
    "import plotly.graph_objects as go\n",
    "import datashader as ds\n",
    "import datashader.transfer_functions as tf\n",
    "from datashader.colors import colormap_select\n",
    "from matplotlib import pyplot as plt\n",
    "from matplotlib.lines import Line2D\n",
    "from PIL import Image\n"
   ]
  },
  {
   "cell_type": "markdown",
   "metadata": {},
   "source": [
    "### You will need to change the data source here to connect to your own DEM "
   ]
  },
  {
   "cell_type": "code",
   "execution_count": null,
   "metadata": {},
   "outputs": [],
   "source": [
    "\n",
    "dem_path = 'SRTMDEM.tif'\n",
    "dem_data = rioxarray.open_rasterio(dem_path)\n",
    "dem_data.plot()\n"
   ]
  },
  {
   "cell_type": "markdown",
   "metadata": {},
   "source": [
    "### This is the main function you need "
   ]
  },
  {
   "cell_type": "code",
   "execution_count": null,
   "metadata": {},
   "outputs": [],
   "source": [
    "# Calculate slope function in degrees \n",
    "def calculate_slope(dem_array, resolution_x, resolution_y):\n",
    "    x, y = np.gradient(dem_array, resolution_x, resolution_y)\n",
    "    slope = np.degrees(np.arctan(np.sqrt(x**2 + y**2)))\n",
    "    return slope\n",
    "\n",
    "\n",
    "resolution_x = 30  \n", #edit based on DEM's spatial resolution 
    "resolution_y = 30  \n", #edit based on DEM's spatial resolution 
    "\n",
    "# Extract DEM as a data array\n",
    "dem_array = dem_data[0].values \n",
    "\n",
    "# Calculate slope using the DEM array\n",
    "slope_data = calculate_slope(dem_array, resolution_x, resolution_y)\n",
    "\n",
    "# Convert slope_data back into an data array \n",
    "slope_xarray = xr.DataArray(slope_data, dims=[\"y\", \"x\"], coords={\"y\": dem_data.y, \"x\": dem_data.x})\n",
    "\n",
    "slope_xarray.plot()\n"
   ]
  },
  {
   "cell_type": "markdown",
   "metadata": {},
   "source": [
    "### Export the slope file as GeoTIFF"
   ]
  },
  {
   "cell_type": "code",
   "execution_count": null,
   "metadata": {},
   "outputs": [],
   "source": [
    "\n",
    "\n",
    "# Export slope function \n",
    "def export_slope_to_tif(slope_xarray, output_path):\n",
    "    # Get the transform (affine) and coordinate information\n",
    "    transform = from_origin(slope_xarray.x.values[0], slope_xarray.y.values[0], resolution_x, resolution_y)\n",
    "    \n",
    "    # Define metadata for the GeoTIFF\n",
    "    new_dataset = rasterio.open(\n",
    "        output_path,\n",
    "        'w',\n",
    "        driver='GTiff',\n",
    "        height=slope_xarray.shape[0],\n",
    "        width=slope_xarray.shape[1],\n",
    "        count=1,\n",
    "        dtype=slope_xarray.dtype,\n",
    "        crs='EPSG:4326',  # Assumes WGS84 coordinate system; must adjust if needed \n",
    "        transform=transform,\n",
    "    )\n",
    "    \n",
    "    # Write the data to the GeoTIFF\n",
    "    new_dataset.write(slope_xarray.values, 1)\n",
    "    new_dataset.close()\n",
    "\n",
    "# Usage of the export function\n",
    "output_tif_path = 'slope.tif'\n",
    "export_slope_to_tif(slope_xarray, output_tif_path)\n",
    "\n",
    "print(f'Slope data exported to {output_tif_path}')"
   ]
  },
  {
   "cell_type": "markdown",
   "metadata": {},
   "source": [
    "### Example output for a map below, uses same classes as GSA tabular outputs "
   ]
  },
  {
   "cell_type": "code",
   "execution_count": null,
   "metadata": {},
   "outputs": [],
   "source": [
    "\n",
    "# Breakpoints and classification\n",
    "breakpoints = [2, 5, 8, 17, 24, 33, 45]\n",
    "slope_classes = np.digitize(slope_xarray, bins=breakpoints)\n",
    "\n",
    "# Color definitions for classes and plot\n",
    "colors = [\n",
    "    \"green\",      # CLASS_0_TO_2\n",
    "    \"lightgreen\", # CLASS_2_TO_5\n",
    "    \"yellow\",     # CLASS_5_TO_8\n",
    "    \"orange\",     # CLASS_8_TO_17\n",
    "    \"darkorange\", # CLASS_17_TO_24\n",
    "    \"red\",        # CLASS_24_TO_33\n",
    "    \"darkred\",    # CLASS_33_TO_45\n",
    "    \"brown\"       # CLASS_MORE_THAN_45\n",
    "]\n",
    "\n",
    "# Class labels\n",
    "class_labels = [\n",
    "    \"0-2°\",\n",
    "    \"2-5°\",\n",
    "    \"5-8°\",\n",
    "    \"8-17°\",\n",
    "    \"17-24°\",\n",
    "    \"24-33°\",\n",
    "    \"33-45°\",\n",
    "    \">45°\"\n",
    "]\n",
    "\n",
    "# New reclassified slope array\n",
    "slope_classes_labeled = xr.DataArray(\n",
    "    slope_classes, \n",
    "    dims=[\"y\", \"x\"], \n",
    "    coords={\"y\": slope_xarray.y, \"x\": slope_xarray.x}\n",
    ")\n",
    "\n",
    "# Create color scale from colors\n",
    "colorscale = [[i / (len(colors) - 1), color] for i, color in enumerate(colors)]\n",
    "\n",
    "# Create heatmap\n",
    "fig = go.Figure(data=go.Heatmap(\n",
    "    z=slope_classes_labeled.values,\n",
    "    colorscale=colorscale,\n",
    "    showscale=False,\n",
    "    zmin=0, zmax=len(colors) - 1,\n",
    "    yaxis=\"y\"\n",
    "))\n",
    "\n",
    "# Update layout and styling options\n",
    "fig.update_layout(\n",
    "    xaxis=dict(visible=False),\n",
    "    yaxis=dict(visible=False, scaleanchor=\"x\", scaleratio=1, autorange='reversed'),  # Was having issues with image becoming inverted \n",
    "    paper_bgcolor='rgba(0,0,0,0)',  # Transparent background\n",
    "    plot_bgcolor='rgba(0,0,0,0)',   # Transparent background\n",
    "    font=dict(color='black'), \n",
    ")\n",
    "\n",
    "# Create legend with class colors and labels\n",
    "for i, color in enumerate(colors):\n",
    "    fig.add_trace(go.Scatter(\n",
    "        x=[None], y=[None],\n",
    "        mode='markers',\n",
    "        marker=dict(\n",
    "            size=10,\n",
    "            color=color,\n",
    "            symbol='square'\n",
    "        ),\n",
    "        legendgroup=class_labels[i],\n",
    "        showlegend=True,\n",
    "        name=class_labels[i]\n",
    "    ))\n",
    "\n",
    "# Update legend styling\n",
    "fig.update_layout(\n",
    "    legend=dict(\n",
    "        title=dict(text=\"Slope\", font=dict(size=14, color='black')),\n",
    "        x=1.05, \n",
    "        y=0.5,  \n",
    "        traceorder=\"normal\",\n",
    "        bgcolor='rgba(0,0,0,0)',  \n",
    "        bordercolor='rgba(0,0,0,0)'  \n",
    "    )\n",
    ")\n",
    "fig.show()\n"
   ]
  }
 ],
 "metadata": {
  "kernelspec": {
   "display_name": "base",
   "language": "python",
   "name": "python3"
  },
  "language_info": {
   "codemirror_mode": {
    "name": "ipython",
    "version": 3
   },
   "file_extension": ".py",
   "mimetype": "text/x-python",
   "name": "python",
   "nbconvert_exporter": "python",
   "pygments_lexer": "ipython3",
   "version": "3.11.5"
  }
 },
 "nbformat": 4,
 "nbformat_minor": 2
}
